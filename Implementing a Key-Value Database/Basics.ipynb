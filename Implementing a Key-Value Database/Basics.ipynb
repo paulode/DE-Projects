{
 "cells": [
  {
   "cell_type": "code",
   "execution_count": 35,
   "metadata": {
    "collapsed": false
   },
   "outputs": [],
   "source": [
    "from btree import NodeKey\n",
    "from btree import Node\n",
    "from btree import BTree\n",
    "import pickle\n",
    "\n",
    "class DQKV(BTree):\n",
    "    def __init__(self,key_type):\n",
    "        \n",
    "        \n",
    "        self.key_type = key_type\n",
    "        \n",
    "        # Call Parent __init__() method\n",
    "        # to set self.t and self.root properties\n",
    "        # By default degree will be 10\n",
    "        super().__init__(10)\n",
    "        \n",
    "        \n",
    "    def set(self, key, value):\n",
    "        \n",
    "        if not value:\n",
    "            #raise ValueError('Cannot store None values')\n",
    "            return\n",
    "        \n",
    "        # Check key type\n",
    "        if not isinstance(key, self.key_type):\n",
    "            #raise KeyError('Key must be of type {}'.format(self.type))\n",
    "            print('Invalid key type!!')\n",
    "            return\n",
    "        \n",
    "        # Check if key already exists\n",
    "        if self.search(self.root, key):\n",
    "            #raise ValueError('Cannot store duplicate key values')\n",
    "            print('Key already exists')\n",
    "            return\n",
    "        \n",
    "        # Add new key\n",
    "        new_key = NodeKey(key, value) \n",
    "        self.insert(new_key)\n",
    "        \n",
    "    def get(self,key):\n",
    "        value = self.search(self.root, key)\n",
    "        \n",
    "        #if value is None:\n",
    "        #    raise KeyError('There is no value for key \"{}\"'.format(key))\n",
    "        \n",
    "        return value\n",
    "    \n",
    "    def range_query(self, values, inclusive = False):\n",
    "        \n",
    "        if len(values) != 2:\n",
    "            #raise ValueError('arg 1 should be a list with two values \"{}\"'.format(values))\n",
    "            print('arg 1 should be a list with two values', values)\n",
    "            return\n",
    "        \n",
    "        if values[0] is not None:\n",
    "            return self.greater_than(self.root, values[0], values[1], inclusive)\n",
    "        else:\n",
    "            return self.less_than(self.root, values[1],None, inclusive)\n",
    "    \n",
    "    def dump(self, filename):\n",
    "        \n",
    "        filename += \".dqdb\"\n",
    "        with open(filename, 'wb') as f:\n",
    "            pickle.dump(self,f)\n",
    "            \n",
    "    def load_from_dict(self,data):\n",
    "    \n",
    "        for k,v in data.items():\n",
    "            self.set(k,v)\n",
    "        \n",
    "def load_dqkv(filename):\n",
    "    \n",
    "    filename += '.dqdb'\n",
    "    with open(filename, 'rb') as f:\n",
    "        return pickle.load(f)\n",
    "    \n"
   ]
  },
  {
   "cell_type": "code",
   "execution_count": 36,
   "metadata": {
    "collapsed": false
   },
   "outputs": [
    {
     "name": "stdout",
     "output_type": "stream",
     "text": [
      "Invalid key type!!\n"
     ]
    }
   ],
   "source": [
    "# Load data\n",
    "\n",
    "c = DQKV(int)\n",
    "c.set(10,100)\n",
    "c.set(9,99)\n",
    "c.set(11,111)\n",
    "c.set(12,112)\n",
    "c.set(\"10\",100)"
   ]
  },
  {
   "cell_type": "code",
   "execution_count": 27,
   "metadata": {
    "collapsed": false
   },
   "outputs": [
    {
     "name": "stdout",
     "output_type": "stream",
     "text": [
      "100\n",
      "None\n"
     ]
    }
   ],
   "source": [
    "# Get data from kv database via get() method\n",
    "print(c.get(10))\n",
    "print(c.get(100)) # Error\n",
    "\n"
   ]
  },
  {
   "cell_type": "code",
   "execution_count": 29,
   "metadata": {
    "collapsed": false
   },
   "outputs": [
    {
     "name": "stdout",
     "output_type": "stream",
     "text": [
      "arg 1 should be a list with two values [1, 2, 3]\n"
     ]
    },
    {
     "data": {
      "text/plain": [
       "[<NodeKey: (9, 99)>, <NodeKey: (10, 100)>]"
      ]
     },
     "execution_count": 29,
     "metadata": {},
     "output_type": "execute_result"
    }
   ],
   "source": [
    "# Get data from kv database using range_query() method\n",
    "c.range_query([1,2,3],inclusive = True)\n",
    "c.range_query([10, None], inclusive = True)\n",
    "c.range_query([10, None], inclusive = False)\n",
    "\n",
    "c.range_query([None, 9], inclusive = True)\n",
    "c.range_query([None, 10], inclusive = True)\n",
    "c.range_query([None, 10], inclusive = False)\n",
    "\n",
    "c.range_query([9, 10], inclusive = True)\n",
    "\n",
    "\n"
   ]
  },
  {
   "cell_type": "code",
   "execution_count": 37,
   "metadata": {
    "collapsed": true
   },
   "outputs": [],
   "source": [
    "# dump kvdb\n",
    "c.dump('dqkv')"
   ]
  },
  {
   "cell_type": "code",
   "execution_count": 38,
   "metadata": {
    "collapsed": false
   },
   "outputs": [
    {
     "data": {
      "text/plain": [
       "[<NodeKey: (9, 99)>, <NodeKey: (10, 100)>]"
      ]
     },
     "execution_count": 38,
     "metadata": {},
     "output_type": "execute_result"
    }
   ],
   "source": [
    "# load kvdb\n",
    "kvdb = load_dqkv('dqkv')\n",
    "\n",
    "# Quick test to verify b-tree was loaded from file\n",
    "kvdb.range_query([9, 10], inclusive = True)"
   ]
  },
  {
   "cell_type": "code",
   "execution_count": 41,
   "metadata": {
    "collapsed": false
   },
   "outputs": [
    {
     "name": "stdout",
     "output_type": "stream",
     "text": [
      "Key already exists\n",
      "Key already exists\n",
      "Key already exists\n",
      "Invalid key type!!\n"
     ]
    },
    {
     "data": {
      "text/plain": [
       "[<NodeKey: (1, 10)>,\n",
       " <NodeKey: (2, 20)>,\n",
       " <NodeKey: (3, 30)>,\n",
       " <NodeKey: (9, 99)>]"
      ]
     },
     "execution_count": 41,
     "metadata": {},
     "output_type": "execute_result"
    }
   ],
   "source": [
    "data = {1:10, 2:20, 3:30, \"10\":11}\n",
    "\n",
    "kvdb.load_from_dict(data)\n",
    "\n",
    "kvdb.range_query([None,9], inclusive = True)\n",
    "    \n",
    "    \n"
   ]
  },
  {
   "cell_type": "code",
   "execution_count": 34,
   "metadata": {
    "collapsed": false
   },
   "outputs": [
    {
     "name": "stdout",
     "output_type": "stream",
     "text": [
      "1 10\n",
      "2 20\n",
      "3 30\n"
     ]
    }
   ],
   "source": [
    "data = {1:10, 2:20, 3:30}\n",
    "\n",
    "for k,v in data.items():\n",
    "    print(k,v)\n"
   ]
  },
  {
   "cell_type": "code",
   "execution_count": null,
   "metadata": {
    "collapsed": true
   },
   "outputs": [],
   "source": []
  }
 ],
 "metadata": {
  "kernelspec": {
   "display_name": "Python 3",
   "language": "python",
   "name": "python3"
  },
  "language_info": {
   "codemirror_mode": {
    "name": "ipython",
    "version": 3
   },
   "file_extension": ".py",
   "mimetype": "text/x-python",
   "name": "python",
   "nbconvert_exporter": "python",
   "pygments_lexer": "ipython3",
   "version": "3.4.3"
  }
 },
 "nbformat": 4,
 "nbformat_minor": 0
}
