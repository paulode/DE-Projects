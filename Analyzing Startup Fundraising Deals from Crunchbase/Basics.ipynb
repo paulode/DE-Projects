{
 "cells": [
  {
   "cell_type": "code",
   "execution_count": 2,
   "metadata": {
    "collapsed": true
   },
   "outputs": [],
   "source": [
    "import pandas as pd\n",
    "\n"
   ]
  },
  {
   "cell_type": "code",
   "execution_count": 3,
   "metadata": {
    "collapsed": false
   },
   "outputs": [
    {
     "name": "stdout",
     "output_type": "stream",
     "text": [
      "Missing values per column:\n",
      "company_category_code       643\n",
      "company_city                533\n",
      "company_country_code          1\n",
      "company_name                  1\n",
      "company_permalink             1\n",
      "company_region                1\n",
      "company_state_code          492\n",
      "funded_at                     3\n",
      "funded_month                  3\n",
      "funded_quarter                3\n",
      "funded_year                   3\n",
      "funding_round_type            3\n",
      "investor_category_code    50427\n",
      "investor_city             12480\n",
      "investor_country_code     12001\n",
      "investor_name                 2\n",
      "investor_permalink            2\n",
      "investor_region               2\n",
      "investor_state_code       16809\n",
      "raised_amount_usd          3599\n",
      "dtype: int64\n",
      "\n",
      "Total Rows = 52870\n",
      "\n",
      "Total Memory(MB) = 56.988484382629395\n"
     ]
    }
   ],
   "source": [
    "\n",
    "invest_iter = pd.read_csv('crunchbase-investments.csv', chunksize = 5000, \n",
    "                          encoding = 'Latin-1')\n",
    "\n",
    "missing_value = []\n",
    "memory_usage = []\n",
    "row_count = 0\n",
    "for chunk in invest_iter:\n",
    "    \n",
    "    # Get missing values\n",
    "    missing_value.append(chunk.isnull().sum())\n",
    "    \n",
    "    # Get memory usage\n",
    "    memory_usage.append(chunk.memory_usage(deep=True))\n",
    "    \n",
    "    # Get row_count\n",
    "    row_count += len(chunk)\n",
    "    \n",
    "# Combine and calculate missing values for all chunks\n",
    "missing_values_combined = pd.concat(missing_value)\n",
    "missing_values_total = missing_values_combined.groupby(level=0).sum()\n",
    "\n",
    "# Combine and calculate total memory by column\n",
    "memory_usage_combined = pd.concat(memory_usage)\n",
    "memory_usage_total = memory_usage_combined.sum()/(1024*1024)\n",
    "\n",
    "print(\"Missing values per column:\")\n",
    "print(missing_values_total)\n",
    "print()\n",
    "print(\"Total Rows =\", row_count)\n",
    "print()\n",
    "print(\"Total Memory(MB) =\", memory_usage_total)\n"
   ]
  },
  {
   "cell_type": "markdown",
   "metadata": {},
   "source": [
    "<b> Sample data to Determine which columns can be dropped<b>"
   ]
  },
  {
   "cell_type": "code",
   "execution_count": 4,
   "metadata": {
    "collapsed": false
   },
   "outputs": [
    {
     "name": "stdout",
     "output_type": "stream",
     "text": [
      "     company_permalink company_name company_category_code  \\\n",
      "0    /company/advercar     AdverCar           advertising   \n",
      "1  /company/launchgram   LaunchGram                  news   \n",
      "2        /company/utap         uTaP             messaging   \n",
      "3    /company/zoopshop     ZoopShop              software   \n",
      "4    /company/efuneral     eFuneral                   web   \n",
      "\n",
      "  company_country_code company_state_code         company_region  \\\n",
      "0                  USA                 CA                 SF Bay   \n",
      "1                  USA                 CA                 SF Bay   \n",
      "2                  USA                NaN  United States - Other   \n",
      "3                  USA                 OH               Columbus   \n",
      "4                  USA                 OH              Cleveland   \n",
      "\n",
      "    company_city          investor_permalink      investor_name  \\\n",
      "0  San Francisco  /company/1-800-flowers-com  1-800-FLOWERS.COM   \n",
      "1  Mountain View        /company/10xelerator        10Xelerator   \n",
      "2            NaN        /company/10xelerator        10Xelerator   \n",
      "3       columbus        /company/10xelerator        10Xelerator   \n",
      "4      Cleveland        /company/10xelerator        10Xelerator   \n",
      "\n",
      "  investor_category_code investor_country_code investor_state_code  \\\n",
      "0                    NaN                   USA                  NY   \n",
      "1                finance                   USA                  OH   \n",
      "2                finance                   USA                  OH   \n",
      "3                finance                   USA                  OH   \n",
      "4                finance                   USA                  OH   \n",
      "\n",
      "  investor_region investor_city funding_round_type   funded_at funded_month  \\\n",
      "0        New York      New York           series-a  2012-10-30      2012-10   \n",
      "1        Columbus      Columbus              other  2012-01-23      2012-01   \n",
      "2        Columbus      Columbus              other  2012-01-01      2012-01   \n",
      "3        Columbus      Columbus              angel  2012-02-15      2012-02   \n",
      "4        Columbus      Columbus              other  2011-09-08      2011-09   \n",
      "\n",
      "  funded_quarter  funded_year  raised_amount_usd  \n",
      "0        2012-Q4         2012            2000000  \n",
      "1        2012-Q1         2012              20000  \n",
      "2        2012-Q1         2012              20000  \n",
      "3        2012-Q1         2012              20000  \n",
      "4        2011-Q3         2011              20000  \n"
     ]
    }
   ],
   "source": [
    "invest = pd.read_csv('crunchbase-investments.csv', nrows = 5, \n",
    "                          encoding = 'Latin-1')\n",
    "\n",
    "print(invest)"
   ]
  },
  {
   "cell_type": "markdown",
   "metadata": {},
   "source": [
    "NOTES:\n",
    "- Columns that can be droppped: \n",
    "    - company_permalink: No extra info\n",
    "    - company_country_code: Only two values\n",
    "    - investor_permalink: No extra info\n",
    "    - investor_category_code: too many missing values\n",
    "    - investor_category_code; Maybe?"
   ]
  },
  {
   "cell_type": "code",
   "execution_count": 5,
   "metadata": {
    "collapsed": false
   },
   "outputs": [
    {
     "name": "stdout",
     "output_type": "stream",
     "text": [
      "Get Column data types\n",
      "<class 'pandas.core.frame.DataFrame'>\n",
      "RangeIndex: 10 entries, 0 to 9\n",
      "Data columns (total 20 columns):\n",
      "company_permalink         10 non-null object\n",
      "company_name              10 non-null object\n",
      "company_category_code     10 non-null object\n",
      "company_country_code      10 non-null object\n",
      "company_state_code        9 non-null object\n",
      "company_region            10 non-null object\n",
      "company_city              9 non-null object\n",
      "investor_permalink        10 non-null object\n",
      "investor_name             10 non-null object\n",
      "investor_category_code    7 non-null object\n",
      "investor_country_code     8 non-null object\n",
      "investor_state_code       8 non-null object\n",
      "investor_region           10 non-null object\n",
      "investor_city             8 non-null object\n",
      "funding_round_type        10 non-null object\n",
      "funded_at                 10 non-null object\n",
      "funded_month              10 non-null object\n",
      "funded_quarter            10 non-null object\n",
      "funded_year               10 non-null int64\n",
      "raised_amount_usd         10 non-null int64\n",
      "dtypes: int64(2), object(18)\n",
      "memory usage: 1.6+ KB\n",
      "None\n"
     ]
    }
   ],
   "source": [
    "invest = pd.read_csv('crunchbase-investments.csv', nrows = 10, \n",
    "                          encoding = 'Latin-1')\n",
    "\n",
    "print(\"Get Column data types\")\n",
    "print(invest.info())"
   ]
  },
  {
   "cell_type": "markdown",
   "metadata": {},
   "source": [
    "<b>Get column unique value counts to determine if any column can be converted to category data type <b>"
   ]
  },
  {
   "cell_type": "code",
   "execution_count": 6,
   "metadata": {
    "collapsed": false
   },
   "outputs": [
    {
     "name": "stdout",
     "output_type": "stream",
     "text": [
      "Column = company_state_code\n",
      "Total unique values = 50\n",
      "Total rows = 52378\n",
      "Unique values % = 0.09545992592309749\n",
      "\n",
      "Column = company_region\n",
      "Total unique values = 546\n",
      "Total rows = 52869\n",
      "Unique values % = 1.0327413039777564\n",
      "\n",
      "Column = investor_region\n",
      "Total unique values = 585\n",
      "Total rows = 52868\n",
      "Unique values % = 1.106529469622456\n",
      "\n",
      "Column = company_city\n",
      "Total unique values = 1229\n",
      "Total rows = 52337\n",
      "Unique values % = 2.348243116724306\n",
      "\n",
      "Column = funded_month\n",
      "Total unique values = 192\n",
      "Total rows = 52867\n",
      "Unique values % = 0.3631755159173019\n",
      "\n",
      "Column = company_name\n",
      "Total unique values = 11573\n",
      "Total rows = 52869\n",
      "Unique values % = 21.889954415631088\n",
      "\n",
      "Column = funded_at\n",
      "Total unique values = 2808\n",
      "Total rows = 52867\n",
      "Unique values % = 5.31144192029054\n",
      "\n",
      "Column = funded_quarter\n",
      "Total unique values = 72\n",
      "Total rows = 52867\n",
      "Unique values % = 0.1361908184689882\n",
      "\n",
      "Column = investor_city\n",
      "Total unique values = 990\n",
      "Total rows = 40390\n",
      "Unique values % = 2.4511017578608567\n",
      "\n",
      "Column = investor_country_code\n",
      "Total unique values = 72\n",
      "Total rows = 40869\n",
      "Unique values % = 0.17617264919621228\n",
      "\n",
      "Column = company_category_code\n",
      "Total unique values = 43\n",
      "Total rows = 52227\n",
      "Unique values % = 0.08233289294809198\n",
      "\n",
      "Column = funding_round_type\n",
      "Total unique values = 9\n",
      "Total rows = 52867\n",
      "Unique values % = 0.017023852308623525\n",
      "\n",
      "Column = investor_name\n",
      "Total unique values = 10465\n",
      "Total rows = 52868\n",
      "Unique values % = 19.794582734357267\n",
      "\n"
     ]
    }
   ],
   "source": [
    "usecols = ['company_name', 'company_category_code',\n",
    "       'company_state_code', 'company_region',\n",
    "       'company_city', 'investor_name',\n",
    "       'investor_country_code',\n",
    "       'investor_region', 'investor_city',\n",
    "       'funding_round_type', 'funded_at', 'funded_month', 'funded_quarter',\n",
    "       'funded_year', 'raised_amount_usd']\n",
    "invest = pd.read_csv('crunchbase-investments.csv', chunksize = 5000, \n",
    "                          encoding = 'Latin-1', usecols = usecols )\n",
    "\n",
    "column_unique_value = {}\n",
    "for chunk in invest:\n",
    "    for c in chunk.select_dtypes(include=['object']):\n",
    "        \n",
    "        unique_value = chunk[c].value_counts()\n",
    "\n",
    "        if c in column_unique_value:\n",
    "            column_unique_value[c].append(unique_value)\n",
    "        else:\n",
    "            column_unique_value[c] = [unique_value]\n",
    "\n",
    "unique_value_final = {}\n",
    "for c in column_unique_value.keys():\n",
    "    combined_vc = pd.concat(column_unique_value[c])\n",
    "    unique_value_final[c] = combined_vc.groupby(level = 0).sum()\n",
    "    \n",
    "for c in unique_value_final:\n",
    "    \n",
    "    if len(unique_value_final[c])/ unique_value_final[c].sum() < 0.5:\n",
    "        print('Column =', c)\n",
    "        print('Total unique values =', len(unique_value_final[c]))\n",
    "        print('Total rows =', unique_value_final[c].sum() )\n",
    "        print('Unique values % =', \n",
    "              (len(unique_value_final[c])/unique_value_final[c].sum()) * 100)\n",
    "        print()\n"
   ]
  },
  {
   "cell_type": "code",
   "execution_count": 7,
   "metadata": {
    "collapsed": false
   },
   "outputs": [
    {
     "name": "stdout",
     "output_type": "stream",
     "text": [
      "Total Memory = 24.866358757019043\n"
     ]
    }
   ],
   "source": [
    "import sqlite3\n",
    "\n",
    "conn = sqlite3.connect('invest.db')\n",
    "conn.execute('DROP TABLE invest')\n",
    "\n",
    "usecols = ['company_name', 'company_category_code',\n",
    "       'company_country_code', 'company_state_code', 'company_region',\n",
    "       'company_city', 'investor_name',\n",
    "       'investor_country_code',\n",
    "       'investor_region', 'investor_city',\n",
    "       'funding_round_type', 'funded_at', 'funded_month', 'funded_quarter',\n",
    "       'funded_year', 'raised_amount_usd']\n",
    "invest = pd.read_csv('crunchbase-investments.csv', chunksize = 5000, \n",
    "                          encoding = 'Latin-1', usecols = usecols )\n",
    "\n",
    "\n",
    "mem_total = 0\n",
    "\n",
    "for chunk in invest:\n",
    "    \n",
    "    # Try a better integer subtype\n",
    "    chunk['funded_year'] = pd.to_numeric(chunk['funded_year'],\n",
    "                                         downcast='integer') \n",
    "    chunk['raised_amount_usd'] = pd.to_numeric(chunk['raised_amount_usd'],\n",
    "                                               downcast='integer') \n",
    "    \n",
    "    \n",
    "    # Remove extra data from funded_quarter (YYYY-)\n",
    "    chunk['funded_quarter'] = chunk['funded_quarter'].str.slice(start = 5)\n",
    "    \n",
    "    # Cast columns to category data type\n",
    "    chunk['funded_quarter'] = chunk['funded_quarter'].astype('category')\n",
    "    chunk['company_state_code'] = chunk['company_state_code'].astype('category')\n",
    "    chunk['investor_city'] = chunk['investor_city'].astype('category')\n",
    "    chunk['investor_country_code'] = chunk['investor_country_code'].astype('category')\n",
    "    chunk['funded_month'] = chunk['funded_month'].astype('category')\n",
    "    chunk['funding_round_type'] = chunk['funding_round_type'].astype('category')\n",
    "    chunk['company_category_code'] = chunk['company_category_code'].astype('category')\n",
    "    \n",
    "    # Save each chunk to database\n",
    "    dtypes = {'raised_amount_usd': 'integer'}\n",
    "    chunk.to_sql('invest', conn, if_exists='append', index = False, dtype = dtypes )\n",
    "    \n",
    "    # Calculate chunk memory usage\n",
    "    mem_total += chunk.memory_usage(deep = True).sum()\n",
    "\n",
    "print(\"Total Memory =\",mem_total/(1024*1024))\n",
    "\n",
    "\n",
    "\n",
    "\n",
    "\n",
    "\n",
    "    \n",
    "    \n",
    "\n",
    "\n",
    "\n",
    "\n"
   ]
  },
  {
   "cell_type": "markdown",
   "metadata": {},
   "source": [
    "<b>Check database size in disk:<b>"
   ]
  },
  {
   "cell_type": "code",
   "execution_count": 8,
   "metadata": {
    "collapsed": false
   },
   "outputs": [
    {
     "name": "stdout",
     "output_type": "stream",
     "text": [
      "   5418  232543 6991872 invest.db\r\n"
     ]
    }
   ],
   "source": [
    "!wc invest.db"
   ]
  },
  {
   "cell_type": "markdown",
   "metadata": {},
   "source": [
    "<b>Verify column data type in the database:<b>"
   ]
  },
  {
   "cell_type": "code",
   "execution_count": 9,
   "metadata": {
    "collapsed": false
   },
   "outputs": [
    {
     "name": "stdout",
     "output_type": "stream",
     "text": [
      "    cid                   name     type  notnull dflt_value  pk\n",
      "0     0           company_name     TEXT        0       None   0\n",
      "1     1  company_category_code     TEXT        0       None   0\n",
      "2     2   company_country_code     TEXT        0       None   0\n",
      "3     3     company_state_code     TEXT        0       None   0\n",
      "4     4         company_region     TEXT        0       None   0\n",
      "5     5           company_city     TEXT        0       None   0\n",
      "6     6          investor_name     TEXT        0       None   0\n",
      "7     7  investor_country_code     TEXT        0       None   0\n",
      "8     8        investor_region     TEXT        0       None   0\n",
      "9     9          investor_city     TEXT        0       None   0\n",
      "10   10     funding_round_type     TEXT        0       None   0\n",
      "11   11              funded_at     TEXT        0       None   0\n",
      "12   12           funded_month     TEXT        0       None   0\n",
      "13   13         funded_quarter     TEXT        0       None   0\n",
      "14   14            funded_year  INTEGER        0       None   0\n",
      "15   15      raised_amount_usd  integer        0       None   0\n"
     ]
    }
   ],
   "source": [
    "# Check Table info                 \n",
    "conn = sqlite3.connect('invest.db')\n",
    "results_df = pd.read_sql('PRAGMA table_info(invest)', conn)\n",
    "\n",
    "print(results_df)\n"
   ]
  },
  {
   "cell_type": "markdown",
   "metadata": {
    "collapsed": false
   },
   "source": [
    "<b>What proportion of the total amount of funds did the top 1% and 10% raise?<b>"
   ]
  },
  {
   "cell_type": "code",
   "execution_count": 23,
   "metadata": {
    "collapsed": false
   },
   "outputs": [
    {
     "name": "stdout",
     "output_type": "stream",
     "text": [
      "-------- SQL solution\n",
      "      total_amt  num_customer  customer_10_pct  customer_1_pct\n",
      "0  681732187973         10357           1035.7          103.57\n",
      "\n",
      "   top_10_pct_total_amt_pct\n",
      "0                  0.645395\n",
      "\n",
      "   top_1_pct_total_amt_pct\n",
      "0                   0.2504\n",
      "\n",
      "   bottom_10_pct_total_amt_pct\n",
      "0                     0.000267\n",
      "\n",
      "   bottom_1_pct_total_amt_pct\n",
      "0                      0.2504\n"
     ]
    }
   ],
   "source": [
    "conn = sqlite3.connect('invest.db')\n",
    "\n",
    "q = \"\"\"with total as (SELECT company_name, SUM(raised_amount_usd) amt \n",
    "FROM invest \n",
    "WHERE raised_amount_usd is not null\n",
    "GROUP BY company_name \n",
    "ORDER BY 2 DESC)\n",
    "select SUM(amt) total_amt, COUNT(1) num_customer, \n",
    "       COUNT(1) * .10 customer_10_pct,\n",
    "       COUNT(1) * 0.01 customer_1_pct \n",
    "from total \n",
    "\"\"\"\n",
    "\n",
    "tot = pd.read_sql(q, conn)\n",
    "print('-------- SQL solution')\n",
    "print(tot)\n",
    "\n",
    "# Calculate TOP 10% \n",
    "q = \"\"\"with total as (SELECT company_name, SUM(raised_amount_usd) amt \n",
    "FROM invest\n",
    "WHERE raised_amount_usd is not null\n",
    "GROUP BY company_name \n",
    "ORDER BY 2 DESC),\n",
    "top10 As (select company_name, amt from total limit \"\"\" \n",
    "q += str(int(tot['customer_10_pct'][0])) \n",
    "q += \"\"\")\n",
    "\n",
    "SELECT\n",
    "    CAST((SELECT SUM(amt) from top10) AS FLOAT)/\n",
    "    (SELECT sum(amt) from total) AS top_10_pct_total_amt_pct\n",
    "\"\"\" \n",
    "print()\n",
    "print(pd.read_sql(q, conn))\n",
    "print()\n",
    "\n",
    "# Calculate TOP 1%\n",
    "q = \"\"\"with total as (SELECT company_name, SUM(raised_amount_usd) amt \n",
    "FROM invest \n",
    "WHERE raised_amount_usd is not null\n",
    "GROUP BY company_name \n",
    "ORDER BY 2 DESC),\n",
    "top1 As (select company_name, amt from total limit \"\"\" \n",
    "q += str(int(tot['customer_1_pct'][0])) \n",
    "q += \"\"\")\n",
    "\n",
    "SELECT\n",
    "    CAST((SELECT SUM(amt) from top1) AS FLOAT)/\n",
    "    (SELECT sum(amt) from total) AS top_1_pct_total_amt_pct\n",
    "\"\"\" \n",
    "\n",
    "print(pd.read_sql(q, conn))\n",
    "\n",
    "\n",
    "# Calculate Bottom 10% \n",
    "q = \"\"\"with total as (SELECT company_name, SUM(raised_amount_usd) amt \n",
    "FROM invest\n",
    "WHERE raised_amount_usd is not null\n",
    "GROUP BY company_name \n",
    "ORDER BY 2 ASC),\n",
    "bottom10 As (select company_name, amt from total limit \"\"\" \n",
    "q += str(int(tot['customer_10_pct'][0])) \n",
    "q += \"\"\")\n",
    "\n",
    "SELECT\n",
    "    CAST((SELECT SUM(amt) from bottom10) AS FLOAT)/\n",
    "    (SELECT sum(amt) from total) AS bottom_10_pct_total_amt_pct\n",
    "\"\"\" \n",
    "print()\n",
    "print(pd.read_sql(q, conn))\n",
    "print()\n",
    "\n",
    "# Calculate Bottom 1%\n",
    "q = \"\"\"with total as (SELECT company_name, SUM(raised_amount_usd) amt \n",
    "FROM invest \n",
    "WHERE raised_amount_usd is not null\n",
    "GROUP BY company_name \n",
    "ORDER BY 2 DESC),\n",
    "Bottom1 As (select company_name, amt from total limit \"\"\" \n",
    "q += str(int(tot['customer_1_pct'][0])) \n",
    "q += \"\"\")\n",
    "\n",
    "SELECT\n",
    "    CAST((SELECT SUM(amt) from Bottom1) AS FLOAT)/\n",
    "    (SELECT sum(amt) from total) AS bottom_1_pct_total_amt_pct\n",
    "\"\"\" \n",
    "\n",
    "print(pd.read_sql(q, conn))\n",
    "\n",
    "\n"
   ]
  },
  {
   "cell_type": "markdown",
   "metadata": {},
   "source": [
    "<b>Which category of company attracted the most investments?<b>"
   ]
  },
  {
   "cell_type": "code",
   "execution_count": 24,
   "metadata": {
    "collapsed": false
   },
   "outputs": [
    {
     "name": "stdout",
     "output_type": "stream",
     "text": [
      "  company_category_code           amt\n",
      "0               biotech  110396423062\n",
      "1              software   73084516724\n",
      "2                mobile   64777379752\n",
      "3             cleantech   52705225028\n",
      "4            enterprise   45860927273\n",
      "5                   web   40143264989\n",
      "6               medical   25367105281\n",
      "7           advertising   25076661879\n",
      "8             ecommerce   22567220071\n",
      "9       network_hosting   22419683840\n"
     ]
    }
   ],
   "source": [
    "conn = sqlite3.connect('invest.db')\n",
    "\n",
    "q = \"\"\"SELECT company_category_code, SUM(raised_amount_usd) amt \n",
    "FROM invest\n",
    "WHERE raised_amount_usd is not null\n",
    "GROUP BY company_category_code \n",
    "ORDER BY 2 DESC LIMIT 10\n",
    "\"\"\"\n",
    "\n",
    "print(pd.read_sql(q, conn))"
   ]
  },
  {
   "cell_type": "markdown",
   "metadata": {
    "collapsed": true
   },
   "source": [
    "<b>Which investor contributed the most money (across all startups)?<b>"
   ]
  },
  {
   "cell_type": "code",
   "execution_count": 37,
   "metadata": {
    "collapsed": false
   },
   "outputs": [
    {
     "name": "stdout",
     "output_type": "stream",
     "text": [
      "   investor_name     total_amt\n",
      "0  Zenyaku Kogyo  110396423062\n"
     ]
    }
   ],
   "source": [
    "conn = sqlite3.connect('invest.db')\n",
    "\n",
    "q = \"\"\"SELECT investor_name, SUM(raised_amount_usd) total_amt \n",
    "FROM invest\n",
    "WHERE raised_amount_usd is not null\n",
    "GROUP BY company_category_code \n",
    "ORDER BY 2 DESC LIMIT 1\n",
    "\"\"\"\n",
    "\n",
    "print(pd.read_sql(q, conn))"
   ]
  },
  {
   "cell_type": "markdown",
   "metadata": {},
   "source": [
    "<b>Which investors contributed the most money per startup?<b>"
   ]
  },
  {
   "cell_type": "code",
   "execution_count": 40,
   "metadata": {
    "collapsed": false
   },
   "outputs": [
    {
     "name": "stdout",
     "output_type": "stream",
     "text": [
      "            company_name                                investor_name  \\\n",
      "0               #waywire                          First Round Capital   \n",
      "1               #waywire                         Innovation Endeavors   \n",
      "2               #waywire                                  Jeff Weiner   \n",
      "3               #waywire                                Oprah Winfrey   \n",
      "4               #waywire                                  Troy Carter   \n",
      "5           1000memories                                Caterina Fake   \n",
      "6                100Plus                               Band of Angels   \n",
      "7          11i Solutions                  Steel Pier Capital Advisors   \n",
      "8               121nexus                  National Science Foundation   \n",
      "9               121nexus                          Mayfly Capital, LLC   \n",
      "10              121nexus               American Pioneer Ventures, Ltd   \n",
      "11              121nexus  Providence Economic Development Partnership   \n",
      "12     1366 Technologies                    U.S. Department of Energy   \n",
      "13     1366 Technologies                North Bridge Venture Partners   \n",
      "14     1366 Technologies                     Polaris Venture Partners   \n",
      "15     1366 Technologies                     VENTIZZ Capital Partners   \n",
      "16     1366 Technologies                  Hanwha Chemical Corporation   \n",
      "17             140 Proof                             BlueRun Ventures   \n",
      "18             140 Proof                                 Mark Kingdon   \n",
      "19                15Five                                  David Sacks   \n",
      "20                15Five                              Jason Calacanis   \n",
      "21                15Five                                     Ben Ling   \n",
      "22                15Five                                 DominateFund   \n",
      "23                15Five                                     John Ham   \n",
      "24                15Five                           Jumpstart Ventures   \n",
      "25                15Five                                 Matt Brezina   \n",
      "26         1World Online                               Alex Fedosseev   \n",
      "27            2080 Media                 Buckhead Investment Partners   \n",
      "28            2080 Media                        Hamilton Ventures LLC   \n",
      "29            2080 Media                            Imlay Investments   \n",
      "...                  ...                                          ...   \n",
      "22406         wunderloop                                Klaus Hommels   \n",
      "22407         wunderloop                             Niklas Zennstrm   \n",
      "22408                xAd                           Palisades Ventures   \n",
      "22409              xkoto                                 Growth Works   \n",
      "22410            y prime                       Ballast Point Ventures   \n",
      "22411           yaM Labs                           Foresight Ventures   \n",
      "22412               ybuy                             TomorrowVentures   \n",
      "22413               ybuy                                Jim Patterson   \n",
      "22414               ybuy                              Stephen Svajian   \n",
      "22415               zozi                         PAR Capital Ventures   \n",
      "22416               zozi                               Thomas Lehrman   \n",
      "22417               zozi                                   Dave Dolby   \n",
      "22418               zozi                                   Larry Bock   \n",
      "22419               zozi                                  ZIG Capital   \n",
      "22420               zozi                                Doug Joon Lee   \n",
      "22421               zozi                                 Jason Finger   \n",
      "22422               zozi                                  John DeMayo   \n",
      "22423               zozi                           Jonathan Shambroom   \n",
      "22424               zozi                                Peter Lehrman   \n",
      "22425               zozi                 Pritzker/Vlock Family Office   \n",
      "22426               zozi                          Silicon Valley Bank   \n",
      "22427               zozi                              Tom Christopoul   \n",
      "22428               zozi                                   Eric Stein   \n",
      "22429               zozi                     Global Brain Corporation   \n",
      "22430               zozi                            Thomas D. Lehrman   \n",
      "22431               zozi                        Alexander Saint-Amand   \n",
      "22432               zozi                               Gabe Greenbaum   \n",
      "22433               zozi                     Gerber Goldschmidt Group   \n",
      "22434               zozi                            Jonathan Auerbach   \n",
      "22435             zulily                    Meritech Capital Partners   \n",
      "\n",
      "       total_amt  \n",
      "0        1750000  \n",
      "1        1750000  \n",
      "2        1750000  \n",
      "3        1750000  \n",
      "4        1750000  \n",
      "5        4820000  \n",
      "6       10150000  \n",
      "7        1800000  \n",
      "8        2390000  \n",
      "9         500000  \n",
      "10         55000  \n",
      "11         55000  \n",
      "12     569500000  \n",
      "13      43550000  \n",
      "14      43550000  \n",
      "15      26000000  \n",
      "16      20000000  \n",
      "17       6200000  \n",
      "18       2500000  \n",
      "19       7100000  \n",
      "20       2000000  \n",
      "21       1000000  \n",
      "22       1000000  \n",
      "23       1000000  \n",
      "24       1000000  \n",
      "25       1000000  \n",
      "26       1000000  \n",
      "27      28500000  \n",
      "28      28500000  \n",
      "29      28500000  \n",
      "...          ...  \n",
      "22406   10000000  \n",
      "22407   10000000  \n",
      "22408    9000000  \n",
      "22409     535000  \n",
      "22410    5000000  \n",
      "22411     500000  \n",
      "22412    2800000  \n",
      "22413    1000000  \n",
      "22414     750000  \n",
      "22415   20000000  \n",
      "22416   17000000  \n",
      "22417   14300000  \n",
      "22418   14300000  \n",
      "22419   11300000  \n",
      "22420   10000000  \n",
      "22421   10000000  \n",
      "22422   10000000  \n",
      "22423   10000000  \n",
      "22424   10000000  \n",
      "22425   10000000  \n",
      "22426   10000000  \n",
      "22427   10000000  \n",
      "22428    3000000  \n",
      "22429    3000000  \n",
      "22430    3000000  \n",
      "22431    1300000  \n",
      "22432    1300000  \n",
      "22433    1300000  \n",
      "22434    1300000  \n",
      "22435   43000000  \n",
      "\n",
      "[22436 rows x 3 columns]\n"
     ]
    }
   ],
   "source": [
    "conn = sqlite3.connect('invest.db')\n",
    "\n",
    "q = \"\"\"\n",
    "SELECT company_name, investor_name, \n",
    "       SUM(raised_amount_usd) total_amt \n",
    "FROM invest\n",
    "WHERE raised_amount_usd is not null\n",
    "GROUP BY company_category_code, investor_name\n",
    "ORDER BY company_name, total_amt DESC \n",
    "\"\"\"\n",
    "\n",
    "print(pd.read_sql(q, conn))"
   ]
  },
  {
   "cell_type": "markdown",
   "metadata": {},
   "source": [
    "<b>Which funding round was the most popular? Which was the least popular?<b>"
   ]
  },
  {
   "cell_type": "code",
   "execution_count": 41,
   "metadata": {
    "collapsed": false
   },
   "outputs": [
    {
     "name": "stdout",
     "output_type": "stream",
     "text": [
      "   most_used     most_used\n",
      "0  series-c+  crowdfunding\n"
     ]
    }
   ],
   "source": [
    "conn = sqlite3.connect('invest.db')\n",
    "\n",
    "q = \"\"\"\n",
    "with funding AS (\n",
    "SELECT funding_round_type,  \n",
    "       SUM(raised_amount_usd) total_amt \n",
    "FROM invest\n",
    "WHERE raised_amount_usd is not null\n",
    "GROUP BY funding_round_type\n",
    "),\n",
    "most_used AS (\n",
    "    SELECT funding_round_type\n",
    "    FROM funding\n",
    "    ORDER BY total_amt DESC LIMIT 1),\n",
    "least_used AS (\n",
    "    SELECT funding_round_type\n",
    "    FROM funding\n",
    "    ORDER BY total_amt ASC LIMIT 1)\n",
    "SELECT\n",
    "    (SELECT funding_round_type FROM most_used) most_used,\n",
    "    (SELECT funding_round_type FROM least_used) most_used\n",
    "\n",
    "\"\"\"\n",
    "\n",
    "print(pd.read_sql(q, conn))"
   ]
  },
  {
   "cell_type": "code",
   "execution_count": null,
   "metadata": {
    "collapsed": true
   },
   "outputs": [],
   "source": []
  }
 ],
 "metadata": {
  "anaconda-cloud": {},
  "kernelspec": {
   "display_name": "Python 3",
   "language": "python",
   "name": "python3"
  },
  "language_info": {
   "codemirror_mode": {
    "name": "ipython",
    "version": 3
   },
   "file_extension": ".py",
   "mimetype": "text/x-python",
   "name": "python",
   "nbconvert_exporter": "python",
   "pygments_lexer": "ipython3",
   "version": "3.4.3"
  }
 },
 "nbformat": 4,
 "nbformat_minor": 2
}
